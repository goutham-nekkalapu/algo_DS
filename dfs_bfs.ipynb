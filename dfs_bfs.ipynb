{
 "cells": [
  {
   "cell_type": "code",
   "execution_count": 4,
   "metadata": {
    "ExecuteTime": {
     "end_time": "2017-08-14T14:57:50.555924Z",
     "start_time": "2017-08-14T14:57:50.548786Z"
    },
    "collapsed": true
   },
   "outputs": [],
   "source": [
    "def dfs(graph, start):\n",
    "    visited, stack = set(), [start]\n",
    "    while stack:\n",
    "        vertex = stack.pop()\n",
    "        if vertex not in visited:\n",
    "            visited.add(vertex)\n",
    "            stack.extend(graph[vertex] - visited)\n",
    "    return visited"
   ]
  },
  {
   "cell_type": "code",
   "execution_count": 5,
   "metadata": {
    "ExecuteTime": {
     "end_time": "2017-08-14T14:57:51.278161Z",
     "start_time": "2017-08-14T14:57:51.261556Z"
    },
    "collapsed": true
   },
   "outputs": [],
   "source": [
    "# using iterative call\n",
    "def dfs_1(graph, start_node):\n",
    "    stack = [start_node]\n",
    "    visited = set()\n",
    "\n",
    "    while stack:\n",
    "        vertex = stack.pop()\n",
    "        if vertex not in visited:\n",
    "            visited.add(vertex)\n",
    "            print(\"--\",visited)\n",
    "            stack.extend(graph[vertex] - visited) \n",
    "    return visited\n",
    "    "
   ]
  },
  {
   "cell_type": "code",
   "execution_count": 6,
   "metadata": {
    "ExecuteTime": {
     "end_time": "2017-08-14T14:57:53.334655Z",
     "start_time": "2017-08-14T14:57:53.322246Z"
    },
    "collapsed": true
   },
   "outputs": [],
   "source": [
    "def dfs_recursion(graph, start, visited = None):\n",
    "    if visited is None:\n",
    "        visited = set()\n",
    "    \n",
    "    visited.add(start) \n",
    "    for next in graph[start] - visited:\n",
    "        dfs_recursion(graph, next, visited)\n",
    "    \n",
    "    return visited\n",
    "        "
   ]
  },
  {
   "cell_type": "code",
   "execution_count": 7,
   "metadata": {
    "ExecuteTime": {
     "end_time": "2017-08-14T14:57:57.289584Z",
     "start_time": "2017-08-14T14:57:57.282092Z"
    },
    "collapsed": true
   },
   "outputs": [],
   "source": [
    "graph = {'A': set(['B', 'C']),\n",
    "         'B': set(['A', 'D', 'E']),\n",
    "         'C': set(['A', 'F']),\n",
    "         'D': set(['B']),\n",
    "         'E': set(['B', 'F']),\n",
    "         'F': set(['C', 'E'])}"
   ]
  },
  {
   "cell_type": "code",
   "execution_count": 9,
   "metadata": {
    "ExecuteTime": {
     "end_time": "2017-08-14T14:58:12.334999Z",
     "start_time": "2017-08-14T14:58:12.326280Z"
    }
   },
   "outputs": [
    {
     "name": "stdout",
     "output_type": "stream",
     "text": [
      "-- {'A'}\n",
      "-- {'A', 'B'}\n",
      "-- {'A', 'D', 'B'}\n",
      "-- {'E', 'A', 'D', 'B'}\n",
      "-- {'E', 'F', 'A', 'D', 'B'}\n",
      "-- {'C', 'E', 'F', 'B', 'A', 'D'}\n",
      "the dfs of given graph is :  {'C', 'E', 'F', 'B', 'A', 'D'}\n"
     ]
    }
   ],
   "source": [
    "#dfs(graph, 'A') # {'E', 'D', 'F', 'A', 'C', 'B'}\n",
    "\n",
    "dfs_out = dfs_1(graph, 'A')\n",
    "print (\"the dfs of given graph is : \", dfs_out)"
   ]
  },
  {
   "cell_type": "code",
   "execution_count": 3,
   "metadata": {
    "ExecuteTime": {
     "end_time": "2017-08-14T14:53:19.855891Z",
     "start_time": "2017-08-14T14:53:19.842884Z"
    }
   },
   "outputs": [
    {
     "name": "stdout",
     "output_type": "stream",
     "text": [
      "the dfs of given graph using recursion :  {'C', 'E', 'F', 'B', 'A', 'D'}\n"
     ]
    }
   ],
   "source": [
    "dfs_out = dfs_recursion(graph, 'A')\n",
    "print (\"the dfs of given graph using recursion : \", dfs_out)"
   ]
  },
  {
   "cell_type": "code",
   "execution_count": null,
   "metadata": {
    "ExecuteTime": {
     "end_time": "2017-08-11T15:43:05.896497Z",
     "start_time": "2017-08-11T15:43:05.884910Z"
    },
    "collapsed": true
   },
   "outputs": [],
   "source": [
    "# func to find the path between two nodes\n",
    "\n",
    "def dfs_paths(graph, start, goal):\n",
    "    stack = [(start, [start])]\n",
    "    while stack:\n",
    "        (vertex, path) = stack.pop()\n",
    "        for next in graph[vertex] - set(path):\n",
    "            if next == goal:\n",
    "                yield path + [next]\n",
    "                #return path + [next]\n",
    "            else:\n",
    "                stack.append((next, path + [next]))\n",
    "\n"
   ]
  },
  {
   "cell_type": "code",
   "execution_count": null,
   "metadata": {
    "ExecuteTime": {
     "end_time": "2017-08-11T15:58:47.066827Z",
     "start_time": "2017-08-11T15:58:47.055031Z"
    },
    "collapsed": true
   },
   "outputs": [],
   "source": [
    "# testing \n",
    "list(dfs_paths(graph, 'A', 'F')) # [['A', 'C', 'F'], ['A', 'B', 'E', 'F']]"
   ]
  },
  {
   "cell_type": "code",
   "execution_count": null,
   "metadata": {
    "ExecuteTime": {
     "end_time": "2017-08-11T16:28:29.987738Z",
     "start_time": "2017-08-11T16:28:29.976071Z"
    },
    "collapsed": true
   },
   "outputs": [],
   "source": [
    "def dfs_paths_recursion(graph, start, goal, path=None):\n",
    "    if path is None:\n",
    "        path = [start]\n",
    "    if start == goal:\n",
    "        yield path\n",
    "    for next in graph[start] - set(path):\n",
    "        yield from dfs_paths_recursion(graph, next, goal, path + [next])\n"
   ]
  },
  {
   "cell_type": "code",
   "execution_count": null,
   "metadata": {
    "ExecuteTime": {
     "end_time": "2017-08-11T16:28:30.522410Z",
     "start_time": "2017-08-11T16:28:30.516209Z"
    },
    "collapsed": true
   },
   "outputs": [],
   "source": [
    "# testing\n",
    "list(dfs_paths_recursion(graph, 'A', 'F')) # [['A', 'C', 'F'], ['A', 'B', 'E', 'F']]"
   ]
  },
  {
   "cell_type": "code",
   "execution_count": null,
   "metadata": {
    "ExecuteTime": {
     "end_time": "2017-08-11T18:09:30.844291Z",
     "start_time": "2017-08-11T18:09:30.832752Z"
    },
    "collapsed": true
   },
   "outputs": [],
   "source": [
    "# bfs\n",
    "def bfs(graph, start):\n",
    "    visited, queue = set(), [start]\n",
    "    while queue:\n",
    "        vertex = queue.pop(0)\n",
    "        if vertex not in visited:\n",
    "            visited.add(vertex)\n",
    "            queue.extend(graph[vertex] - visited)\n",
    "    return visited"
   ]
  },
  {
   "cell_type": "code",
   "execution_count": null,
   "metadata": {
    "ExecuteTime": {
     "end_time": "2017-08-11T18:09:31.265529Z",
     "start_time": "2017-08-11T18:09:31.255480Z"
    },
    "collapsed": true
   },
   "outputs": [],
   "source": [
    "#bfs(graph, 'A') # {'B', 'C', 'A', 'F', 'D', 'E'}\n",
    "#bfs_out = bfs(graph, 'A')\n",
    "#print (\"the bfs of given graph is : \", bfs_out)\n",
    "print (\"the bfs of given graph is : \", bfs(graph, 'A'))"
   ]
  },
  {
   "cell_type": "code",
   "execution_count": null,
   "metadata": {
    "ExecuteTime": {
     "end_time": "2017-08-11T18:09:27.084892Z",
     "start_time": "2017-08-11T18:09:27.073720Z"
    },
    "collapsed": true
   },
   "outputs": [],
   "source": [
    "# bfs using recursion \n",
    "def bfs_recursion(graph, start, visited= None):    \n",
    "    if visited is None:\n",
    "        visited = set() \n",
    "        visited.add(start) # done only once\n",
    "    \n",
    "    adjacent_nodes = graph[start] - visited\n",
    "    visited.update(adjacent_nodes)\n",
    "    \n",
    "    for next in adjacent_nodes:\n",
    "        bfs_recursion(graph, next, visited)\n",
    "    \n",
    "    return visited"
   ]
  },
  {
   "cell_type": "code",
   "execution_count": null,
   "metadata": {
    "ExecuteTime": {
     "end_time": "2017-08-11T18:09:27.608868Z",
     "start_time": "2017-08-11T18:09:27.602694Z"
    },
    "collapsed": true
   },
   "outputs": [],
   "source": [
    "bfs_out = bfs_recursion(graph, 'A')\n",
    "print (\"the bfs of given graph is : \", bfs_out)"
   ]
  },
  {
   "cell_type": "code",
   "execution_count": null,
   "metadata": {
    "collapsed": true
   },
   "outputs": [],
   "source": []
  }
 ],
 "metadata": {
  "kernelspec": {
   "display_name": "keras_env",
   "language": "python",
   "name": "keras_env"
  },
  "language_info": {
   "codemirror_mode": {
    "name": "ipython",
    "version": 3
   },
   "file_extension": ".py",
   "mimetype": "text/x-python",
   "name": "python",
   "nbconvert_exporter": "python",
   "pygments_lexer": "ipython3",
   "version": "3.5.3"
  }
 },
 "nbformat": 4,
 "nbformat_minor": 2
}
