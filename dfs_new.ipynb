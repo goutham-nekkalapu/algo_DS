{
 "cells": [
  {
   "cell_type": "code",
   "execution_count": 3,
   "metadata": {
    "ExecuteTime": {
     "end_time": "2017-08-15T15:21:47.753805Z",
     "start_time": "2017-08-15T15:21:47.743773Z"
    },
    "collapsed": true
   },
   "outputs": [],
   "source": [
    "graph1 = {\n",
    "    'A' : ['B','S'],\n",
    "    'B' : ['A'],\n",
    "    'C' : ['D','E','F','S'],\n",
    "    'D' : ['C'],\n",
    "    'E' : ['C','H'],\n",
    "    'F' : ['C','G'],\n",
    "    'G' : ['F','S'],\n",
    "    'H' : ['E','G'],\n",
    "    'S' : ['A','C','G']\n",
    "}\n",
    "\n",
    "graph = {'A': ['B', 'C'],\n",
    "         'B': ['A', 'D', 'E'],\n",
    "         'C': ['A', 'F'],\n",
    "         'D': ['B'],\n",
    "         'E': ['B', 'F'],\n",
    "         'F': ['C', 'E']}"
   ]
  },
  {
   "cell_type": "code",
   "execution_count": 12,
   "metadata": {
    "ExecuteTime": {
     "end_time": "2017-08-14T15:03:55.076130Z",
     "start_time": "2017-08-14T15:03:55.069489Z"
    },
    "collapsed": true
   },
   "outputs": [],
   "source": [
    "# dfs using recursion\n",
    "def dfs_recursion(graph, node, visited = None):\n",
    "    if visited is None:\n",
    "        visited = []\n",
    "        \n",
    "    if node not in visited:\n",
    "        visited.append(node)\n",
    "        for n in graph[node]:\n",
    "            dfs_recursion(graph,n,visited)\n",
    "        return visited\n"
   ]
  },
  {
   "cell_type": "code",
   "execution_count": 25,
   "metadata": {
    "ExecuteTime": {
     "end_time": "2017-08-14T15:25:20.918398Z",
     "start_time": "2017-08-14T15:25:20.908998Z"
    },
    "collapsed": true
   },
   "outputs": [],
   "source": [
    "# dfs using iterative loop\n",
    "def dfs(graph, start_node):\n",
    "    stack = [start_node]\n",
    "    visited = []\n",
    "    \n",
    "    while stack:\n",
    "        vertex = stack.pop()\n",
    "        if vertex not in visited:\n",
    "            visited.append(vertex)\n",
    "            for n in graph[vertex]:\n",
    "                if n not in visited:\n",
    "                    stack.append(n)\n",
    "    return visited"
   ]
  },
  {
   "cell_type": "code",
   "execution_count": 26,
   "metadata": {
    "ExecuteTime": {
     "end_time": "2017-08-14T15:25:21.797249Z",
     "start_time": "2017-08-14T15:25:21.791175Z"
    }
   },
   "outputs": [
    {
     "name": "stdout",
     "output_type": "stream",
     "text": [
      "['A', 'B', 'D', 'E', 'F', 'C']\n"
     ]
    }
   ],
   "source": [
    "dfs_out = dfs_recursion(graph,'A')\n",
    "print(dfs_out)"
   ]
  },
  {
   "cell_type": "code",
   "execution_count": 27,
   "metadata": {
    "ExecuteTime": {
     "end_time": "2017-08-14T15:25:23.201968Z",
     "start_time": "2017-08-14T15:25:23.194227Z"
    }
   },
   "outputs": [
    {
     "name": "stdout",
     "output_type": "stream",
     "text": [
      "['A', 'C', 'F', 'E', 'B', 'D']\n"
     ]
    }
   ],
   "source": [
    "dfs_out = dfs(graph,'A')\n",
    "print(dfs_out)"
   ]
  },
  {
   "cell_type": "code",
   "execution_count": 11,
   "metadata": {
    "ExecuteTime": {
     "end_time": "2017-08-15T15:35:22.150647Z",
     "start_time": "2017-08-15T15:35:22.141001Z"
    },
    "collapsed": true
   },
   "outputs": [],
   "source": [
    "# bfs using iteration\n",
    "def bfs(graph, start):\n",
    "    visited = []\n",
    "    queue= [start]\n",
    "    \n",
    "    while queue:\n",
    "        vertex = queue.pop(0)              \n",
    "        if vertex not in visited:\n",
    "            visited.append(vertex)            \n",
    "            for node in graph[vertex]:\n",
    "                if node not in visited:\n",
    "                    queue.append(node)\n",
    "    return visited"
   ]
  },
  {
   "cell_type": "code",
   "execution_count": 12,
   "metadata": {
    "ExecuteTime": {
     "end_time": "2017-08-15T15:35:22.572185Z",
     "start_time": "2017-08-15T15:35:22.564168Z"
    }
   },
   "outputs": [
    {
     "name": "stdout",
     "output_type": "stream",
     "text": [
      "['A', 'B', 'C', 'D', 'E', 'F']\n"
     ]
    }
   ],
   "source": [
    "bfs_out = bfs(graph,'A')\n",
    "print(bfs_out)"
   ]
  },
  {
   "cell_type": "code",
   "execution_count": 5,
   "metadata": {
    "ExecuteTime": {
     "end_time": "2017-08-15T15:21:58.515309Z",
     "start_time": "2017-08-15T15:21:58.503035Z"
    },
    "collapsed": true
   },
   "outputs": [],
   "source": [
    "# dfs using recursion\n",
    "def dfs_paths_recursion(graph, start, goal, path = None):\n",
    "    if path is None:\n",
    "        path = [start]\n",
    "        \n",
    "    if start == goal:\n",
    "        yield path\n",
    "        \n",
    "    for next in graph[start]:\n",
    "        if next not in path:\n",
    "            yield from dfs_paths_recursion(graph, next, goal, path + [next])\n",
    "            "
   ]
  },
  {
   "cell_type": "code",
   "execution_count": 6,
   "metadata": {
    "ExecuteTime": {
     "end_time": "2017-08-15T15:22:00.378825Z",
     "start_time": "2017-08-15T15:22:00.363561Z"
    }
   },
   "outputs": [
    {
     "data": {
      "text/plain": [
       "[['A', 'B', 'E', 'F'], ['A', 'C', 'F']]"
      ]
     },
     "execution_count": 6,
     "metadata": {},
     "output_type": "execute_result"
    }
   ],
   "source": [
    "# testing\n",
    "list(dfs_paths_recursion(graph, 'A', 'F')) # [['A', 'C', 'F'], ['A', 'B', 'E', 'F']]"
   ]
  }
 ],
 "metadata": {
  "kernelspec": {
   "display_name": "keras_env",
   "language": "python",
   "name": "keras_env"
  },
  "language_info": {
   "codemirror_mode": {
    "name": "ipython",
    "version": 3
   },
   "file_extension": ".py",
   "mimetype": "text/x-python",
   "name": "python",
   "nbconvert_exporter": "python",
   "pygments_lexer": "ipython3",
   "version": "3.5.3"
  }
 },
 "nbformat": 4,
 "nbformat_minor": 2
}
